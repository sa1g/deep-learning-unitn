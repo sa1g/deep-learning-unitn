{
 "cells": [
  {
   "cell_type": "code",
   "execution_count": null,
   "id": "adfdbce3",
   "metadata": {},
   "outputs": [],
   "source": [
    "import torch\n",
    "import torch.nn as nn\n",
    "import kornia"
   ]
  },
  {
   "cell_type": "code",
   "execution_count": null,
   "id": "1333a494",
   "metadata": {},
   "outputs": [],
   "source": [
    "import torchvision\n",
    "\n",
    "image = torchvision.io.read_image(\n",
    "    \"datasets/imagenet-a/n01641577/0.038738_agama _ newt_0.7465035.jpg\"\n",
    ")\n",
    "\n",
    "# image_batch = image.float().div(255).unsqueeze(0).repeat(63, 1, 1, 1)\n"
   ]
  },
  {
   "cell_type": "code",
   "execution_count": null,
   "id": "f09ff2dd",
   "metadata": {},
   "outputs": [],
   "source": [
    "image_batch = image.float().div(255).repeat(63, 1, 1, 1)"
   ]
  },
  {
   "cell_type": "code",
   "execution_count": null,
   "id": "7ee030b4",
   "metadata": {},
   "outputs": [],
   "source": [
    "kornia_preprocess = nn.Sequential(\n",
    "    K.SmallestMaxSize(\n",
    "        224,\n",
    "        resample=kornia.constants.Resample.BICUBIC,\n",
    "    ),\n",
    "    K.CenterCrop(\n",
    "        size=(224, 224),\n",
    "        resample=kornia.constants.Resample.BICUBIC,\n",
    "    ),\n",
    "    kornia.enhance.Normalize(\n",
    "        mean=torch.tensor([0.48145466, 0.4578275, 0.40821073]),\n",
    "        std=torch.tensor([0.26862954, 0.26130258, 0.27577711]),\n",
    "    ),\n",
    ")\n"
   ]
  }
 ],
 "metadata": {
  "language_info": {
   "name": "python"
  }
 },
 "nbformat": 4,
 "nbformat_minor": 5
}
